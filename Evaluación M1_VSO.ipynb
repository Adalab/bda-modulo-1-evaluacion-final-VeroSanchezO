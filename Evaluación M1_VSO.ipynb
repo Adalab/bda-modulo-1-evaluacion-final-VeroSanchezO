{
 "cells": [
  {
   "cell_type": "markdown",
   "metadata": {},
   "source": [
    "- A lo largo de esta evaluación tendrás que crear una clase llamada `TiendaOnline` que cumpla los siguientes requisitos:\n",
    "\n",
    "    - La clase `TiendaOnline` debe tener los siguientes atributos:\n",
    "\n",
    "1. `inventario` (lista de diccionarios): Un atributo para almacenar los productos en el inventario. Cada producto debe ser representado como un diccionario con las siguientes claves: `'nombre'`, `'precio'`, y `'cantidad'`. Al principio deberá ser una lista vacía. Ejemplo de como debería ser:\n",
    "\n",
    "            ```python\n",
    "            [{'nombre': 'Camisa', 'precio': 20, 'cantidad': 40},\n",
    "            {'nombre': 'Pantalón', 'precio': 30, 'cantidad': 30}]"
   ]
  },
  {
   "cell_type": "code",
   "execution_count": 35,
   "metadata": {},
   "outputs": [],
   "source": [
    "# Acá estoy definiendo los atributos inventario para almacenar los productos\n",
    "\n",
    "class TiendaOnline:\n",
    "    def __init__(self):\n",
    "        self.inventario = []\n",
    "        self.clientes = {}\n",
    "        self.ventas_totales = 0,0\n",
    "\n",
    "    def agregar_producto(self, nombre, precio, cantidad):\n",
    "        nombre = nombre.lower()\n",
    "        for producto in self.inventario:\n",
    "            if producto['nombre'].lower() == nombre:\n",
    "                producto['cantidad'] += cantidad\n",
    "                return\n",
    "        producto_nuevo = {'nombre': nombre, 'precio': precio, 'cantidad': cantidad}\n",
    "        self.inventario.append(producto_nuevo)\n",
    "\n",
    "    def ver_inventario(self):\n",
    "        for producto in self.inventario:\n",
    "            print(f\"Nombre: {producto['nombre']}, Precio: ${producto['precio']}, Cantidad: {producto['cantidad']}\")\n",
    "    \n",
    "    def buscar_producto(self, nombre):\n",
    "        nombre = nombre.lower()\n",
    "        for producto in self.inventario:\n",
    "            if producto['nombre'].lower() == nombre:  \n",
    "                print(f\"Nombre: {producto['nombre']}, Precio: ${producto['precio']}, Cantidad: {producto['cantidad']}\")\n",
    "                break\n",
    "        else:  \n",
    "            print(\"No se encuentra este producto en el inventario.\")\n"
   ]
  },
  {
   "cell_type": "code",
   "execution_count": 36,
   "metadata": {},
   "outputs": [],
   "source": [
    "tienda = TiendaOnline()\n",
    "\n",
    "tienda.agregar_producto('Camisa', 20, 40)\n",
    "tienda.agregar_producto('Pantalón', 30, 30)\n",
    "tienda.agregar_producto('Zapatos', 50, 40)\n"
   ]
  },
  {
   "cell_type": "code",
   "execution_count": 37,
   "metadata": {},
   "outputs": [
    {
     "name": "stdout",
     "output_type": "stream",
     "text": [
      "[{'nombre': 'camisa', 'precio': 20, 'cantidad': 40}, {'nombre': 'pantalón', 'precio': 30, 'cantidad': 30}, {'nombre': 'zapatos', 'precio': 50, 'cantidad': 40}]\n"
     ]
    }
   ],
   "source": [
    "print(tienda.inventario)"
   ]
  },
  {
   "cell_type": "code",
   "execution_count": 38,
   "metadata": {},
   "outputs": [
    {
     "name": "stdout",
     "output_type": "stream",
     "text": [
      "Nombre: camisa, Precio: $20, Cantidad: 40\n",
      "Nombre: pantalón, Precio: $30, Cantidad: 30\n",
      "Nombre: zapatos, Precio: $50, Cantidad: 40\n"
     ]
    }
   ],
   "source": [
    "tienda.ver_inventario()"
   ]
  },
  {
   "cell_type": "code",
   "execution_count": 39,
   "metadata": {},
   "outputs": [
    {
     "name": "stdout",
     "output_type": "stream",
     "text": [
      "Nombre: camisa, Precio: $20, Cantidad: 40\n"
     ]
    }
   ],
   "source": [
    "tienda.buscar_producto('camisa')"
   ]
  },
  {
   "cell_type": "markdown",
   "metadata": {},
   "source": [
    "1. `agregar_producto(self, nombre, precio, cantidad)`: Este método agrega un producto al inventario o actualiza su cantidad si ya existe. Debe recibir el nombre, precio y cantidad del producto como parámetros. \n",
    "\n",
    "            - Itera a través del inventario y compara los nombres de los productos con el nombre proporcionado.\n",
    "\n",
    "            - Si el producto ya existe, actualiza la cantidad.\n",
    "\n",
    "            - Si no existe, agrega un nuevo producto al inventario."
   ]
  },
  {
   "cell_type": "code",
   "execution_count": 40,
   "metadata": {},
   "outputs": [],
   "source": [
    "# Hago prueba para definir el método agregar_producto\n",
    "# Para iterar, creo un bucle for. \n",
    "\n",
    "inv_prueba = [{'nombre': 'Camisa', 'precio': 20, 'cantidad': 40}, {'nombre': 'Pantalón', 'precio': 30, 'cantidad': 30}]\n",
    "\n",
    "def agregar_producto(nombre, precio, cantidad):\n",
    "    nombre = nombre.lower() # Me percaté que los nombres del producto estaban en Mayuscula inicial y le agregué .lower()\n",
    "    for producto in inv_prueba:\n",
    "        if producto['nombre'].lower() == nombre: # Compruebo si el nombre del producto actual, en el inventari, coincide con el nombre del producto que estoy agregando\n",
    "            producto['cantidad'] += cantidad # Si se encuentra un producto con el mismo nombre, se actualiza su cantidad sumando la cantidad que se desea agregar\n",
    "            return # Con este no se seguiran ejecutando más líneas de código\n",
    "    producto_nuevo = {'nombre': nombre, 'precio': precio, 'cantidad': cantidad}\n",
    "    inv_prueba.append(producto_nuevo) # Uso el método append para agregar producto\n",
    "        # Si el bucle termina y no se encontró ningún producto con el mismo nombre, o sea, el if nunca se cumplió, se crea un nuevo diccionario llamado producto_nuevo."
   ]
  },
  {
   "cell_type": "code",
   "execution_count": 41,
   "metadata": {},
   "outputs": [
    {
     "name": "stdout",
     "output_type": "stream",
     "text": [
      "[{'nombre': 'Camisa', 'precio': 20, 'cantidad': 50}, {'nombre': 'Pantalón', 'precio': 30, 'cantidad': 30}, {'nombre': 'zapatos', 'precio': 50, 'cantidad': 20}]\n"
     ]
    }
   ],
   "source": [
    "agregar_producto('camisa', 20, 10)  # Aumenta la cantidad de Camisas\n",
    "agregar_producto('Zapatos', 50, 20)  # Agrega un nuevo producto: Zapatos\n",
    "\n",
    "# Compruebo si funciona\n",
    "print(inv_prueba)"
   ]
  },
  {
   "cell_type": "markdown",
   "metadata": {},
   "source": [
    "2. `ver_inventario(self)`: Muestra el inventario de productos con sus detalles.\n",
    "\n",
    "            - Utiliza un bucle `for` para recorrer el inventario.\n",
    "\n",
    "            - Imprime los detalles (nombre, precio, cantidad) de cada producto.\n",
    "\n",
    "            - Debería verse:\n",
    "\n",
    "                ```python\n",
    "                Nombre: Camisa, Precio: $20, Cantidad: 50\n",
    "                Nombre: Pantalón, Precio: $30, Cantidad: 30\n",
    "                Nombre: Zapatos, Precio: $50, Cantidad: 40\n",
    "                Nombre: Camisa, Precio: $20, Cantidad: 50"
   ]
  },
  {
   "cell_type": "code",
   "execution_count": 42,
   "metadata": {},
   "outputs": [],
   "source": [
    "# Hago prueba para definir el método ver_inventario (prueba_ver_inv es una lista de diccionarios, donde cada diccionario representa un producto)\n",
    "\n",
    "prueba_ver_inv = [{'nombre': 'Camisa', 'precio': 20, 'cantidad': 40}, {'nombre': 'Pantalón', 'precio': 30, 'cantidad': 30}]\n",
    "\n",
    "# Uso un bucle para recorrer cada producto en el inventario\n",
    "def ver_inventario():\n",
    "    for producto in prueba_ver_inv:\n",
    "        print(f\"Nombre: {producto['nombre']}, Precio: ${producto['precio']}, Cantidad: {producto['cantidad']}\")\n",
    "\n",
    "# Uso una cadena de texto usando f-strings para acceder con la clave 'nombre' al diccionario 'producto' y así sucesivamente..."
   ]
  },
  {
   "cell_type": "code",
   "execution_count": 2,
   "metadata": {},
   "outputs": [
    {
     "name": "stdout",
     "output_type": "stream",
     "text": [
      "Nombre: Camisa, Precio: $20, Cantidad: 40\n",
      "Nombre: Pantalón, Precio: $30, Cantidad: 30\n"
     ]
    }
   ],
   "source": [
    "# Llamo a la función para comprobar si funciona\n",
    "\n",
    "ver_inventario()"
   ]
  },
  {
   "cell_type": "markdown",
   "metadata": {},
   "source": [
    "3. `buscar_producto(self, nombre)`: Busca un producto en el inventario por nombre y muestra sus detalles si se encuentra. Debe recibir el nombre del producto como parámetro.\n",
    "\n",
    "-Utiliza un bucle `for` para recorrer el inventario.\n",
    "\n",
    "-Compara los nombres de los productos con el nombre proporcionado.\n",
    "\n",
    "-Si se encuentra el producto, imprime sus detalles.\n",
    "\n",
    "-Debe mostrar:\n",
    "\n",
    "                ```python\n",
    "                Nombre: Camisa, Precio: $20, Cantidad: 40"
   ]
  },
  {
   "cell_type": "code",
   "execution_count": 32,
   "metadata": {},
   "outputs": [],
   "source": [
    "# Hago prueba para definir el método buscar_producto\n",
    "# Uso bucle for para iterar sobre cada elemento en prueba_buscar_prod (self.inventario), que es la lista de diccionarios\n",
    "\n",
    "prueba_buscar_producto = [{'nombre': 'Camisa', 'precio': 20, 'cantidad': 40}, {'nombre': 'Pantalón', 'precio': 30, 'cantidad': 30}]\n",
    "\n",
    "def buscar_producto(nombre):\n",
    "    nombre = nombre.lower()\n",
    "    for producto in prueba_buscar_producto:\n",
    "        if producto['nombre'].lower() == nombre:  # Acá comparo el nombre del producto actual (que también convertí a minúsculas) con el nombre que se busca\n",
    "                print(f\"Nombre: {producto['nombre']}, Precio: ${producto['precio']}, Cantidad: {producto['cantidad']}\")\n",
    "                break # Si se encuentra el producto, no es necesario seguir buscando, así que utilizo este comando para terminar con el bucle for inmediatamente.\n",
    "    else:  # Este bloque se ejecuta si no se encuentra ningún producto\n",
    "        print(\"No se encuentra este producto en el inventario.\")\n"
   ]
  },
  {
   "cell_type": "code",
   "execution_count": 34,
   "metadata": {},
   "outputs": [
    {
     "name": "stdout",
     "output_type": "stream",
     "text": [
      "Nombre: Pantalón, Precio: $30, Cantidad: 30\n",
      "Nombre: Camisa, Precio: $20, Cantidad: 40\n",
      "No se encuentra este producto en el inventario.\n"
     ]
    }
   ],
   "source": [
    "# Funciona, pero hay que colocarle la tílde a 'pantalón'\n",
    "buscar_producto('pantalón')\n",
    "buscar_producto('camisa')\n",
    "buscar_producto('calcetines')"
   ]
  },
  {
   "cell_type": "markdown",
   "metadata": {},
   "source": [
    "4. `actualizar_stock(self, nombre, cantidad)`: Actualiza el stock de un producto en el inventario. Debe recibir el nombre del producto y la cantidad a agregar o quitar como parámetros.\n",
    "\n",
    "- Utiliza un bucle `for` para recorrer el inventario.\n",
    "\n",
    "- Busca el producto por nombre.\n",
    "\n",
    "- Actualiza la cantidad según la entrada del usuario.\n",
    "\n",
    "- Si el producto no esta en el inventario muestra un mensaje indicándolo. "
   ]
  }
 ],
 "metadata": {
  "kernelspec": {
   "display_name": "Python 3",
   "language": "python",
   "name": "python3"
  },
  "language_info": {
   "codemirror_mode": {
    "name": "ipython",
    "version": 3
   },
   "file_extension": ".py",
   "mimetype": "text/x-python",
   "name": "python",
   "nbconvert_exporter": "python",
   "pygments_lexer": "ipython3",
   "version": "3.12.6"
  }
 },
 "nbformat": 4,
 "nbformat_minor": 2
}
